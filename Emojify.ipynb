{
 "cells": [
  {
   "cell_type": "code",
   "execution_count": 44,
   "metadata": {
    "collapsed": false
   },
   "outputs": [],
   "source": [
    "import numpy as np\n",
    "import emoji\n",
    "import matplotlib.pyplot as plt\n",
    "import csv\n",
    "\n",
    "%matplotlib inline"
   ]
  },
  {
   "cell_type": "code",
   "execution_count": 45,
   "metadata": {
    "collapsed": false
   },
   "outputs": [],
   "source": [
    "\n",
    "\n",
    "X_train, y_train, X_test, y_test = ([] for i in range(4))\n",
    "\n",
    "with open('emoji_train.csv') as c:\n",
    "    csvReader = csv.reader(c)\n",
    "    for line in csvReader:\n",
    "        X_train.append(line[0])\n",
    "        y_train.append(line[1])\n",
    "\n",
    "with open('emoji_test.csv') as c:\n",
    "    csvReader = csv.reader(c)\n",
    "    for line in csvReader:\n",
    "        X_test.append(line[0])\n",
    "        y_test.append(line[1])\n",
    "\n",
    "X_train = np.asarray(X_train)\n",
    "X_test = np.asarray(X_test)\n",
    "y_train = np.asarray(y_train, dtype=int)\n",
    "y_test = np.asarray(y_test, dtype=int)\n",
    "\n",
    "\n"
   ]
  },
  {
   "cell_type": "code",
   "execution_count": 46,
   "metadata": {
    "collapsed": true
   },
   "outputs": [],
   "source": [
    "max_len = len(max(X_train, key=len).split())\n",
    "\n",
    "emoji_dict = {\"0\": \"\\u2764\\uFE0F\",   \n",
    "              \"1\": \":baseball:\",\n",
    "              \"2\": \":smile:\",\n",
    "              \"3\": \":disappointed:\",\n",
    "              \"4\": \":fork_and_knife:\"}\n",
    "\n",
    "\n"
   ]
  },
  {
   "cell_type": "code",
   "execution_count": 47,
   "metadata": {
    "collapsed": false
   },
   "outputs": [],
   "source": [
    "#y_train = np.eye(5)[y_train.reshape(-1)]\n",
    "#y_test = np.eye(5)[y_test.reshape(-1)]\n",
    "\n",
    "\n",
    "\n"
   ]
  },
  {
   "cell_type": "code",
   "execution_count": 48,
   "metadata": {
    "collapsed": false
   },
   "outputs": [],
   "source": [
    "\n",
    "word_vec_dict = {}\n",
    "\n",
    "with open('glove.6B.50d.txt','r', encoding='utf-8') as f:\n",
    "    vocab = set()\n",
    "    \n",
    "    for line in f:\n",
    "        line = line.strip().split()\n",
    "        vocab.add(line[0])\n",
    "        word_vec_dict[line[0]] = np.array(line[1:], dtype=np.float64)\n",
    "        \n",
    "        word_dict = {}\n",
    "        inverse_word_dict = {}\n",
    "        \n",
    "    idx = 1\n",
    "    for word in sorted(vocab):\n",
    "            word_dict[idx] = word\n",
    "            inverse_word_dict[word] = idx\n",
    "            idx += 1\n",
    "\n",
    "                    "
   ]
  },
  {
   "cell_type": "code",
   "execution_count": 57,
   "metadata": {
    "collapsed": false
   },
   "outputs": [],
   "source": [
    "def model(X, y, word_vec_dict, num_iterations, learning_rate):\n",
    "    \n",
    "    np.random.seed(1)\n",
    "    \n",
    "    num_examples = y.shape[0]\n",
    "    ou_size = 5\n",
    "    h_size = 50\n",
    "    \n",
    "    w = np.random.randn(ou_size, h_size) / np.sqrt(h_size)\n",
    "    b = np.zeros((ou_size,))\n",
    "    \n",
    "    y_onehot = np.eye(ou_size)[y.reshape(-1)]\n",
    "    \n",
    "    \n",
    "    for i in range(num_iterations):\n",
    "        for j in range(num_examples):\n",
    "            words = X[j].lower().split()\n",
    "            sent_vec = np.zeros(word_vec_dict[words[0]].shape)\n",
    "            for word in words:\n",
    "                sent_vec += word_vec_dict[word]\n",
    "            sent_vec /= len(words)\n",
    "            \n",
    "            z = np.matmul(w, sent_vec) + b\n",
    "            \n",
    "            expn = np.exp(z - np.max(z))\n",
    "            a = expn / expn.sum(axis=0)\n",
    "            \n",
    "            cost = -np.sum(y_onehot[j] * np.log(a))\n",
    "            \n",
    "            dz = a - y_onehot[j]\n",
    "            dw = np.dot(dz.reshape(ou_size, 1), sent_vec.reshape(1, h_size))\n",
    "            db = dz\n",
    "            \n",
    "            w = w - learning_rate * dw\n",
    "            b = b - learning_rate * db\n",
    "            \n",
    "            \n",
    "        if i % 100 == 0:\n",
    "            print('Cost after iteration %d: %f' % (i, cost))\n",
    "            y_predict = predict(X, y, w, b, word_vec_dict)\n",
    "\n",
    "                \n",
    "            \n",
    "    \n",
    "    \n",
    "    return y_predict, w, b"
   ]
  },
  {
   "cell_type": "code",
   "execution_count": 62,
   "metadata": {
    "collapsed": true
   },
   "outputs": [],
   "source": [
    "def predict(X, y, w, b, word_vec_dict):\n",
    "    \n",
    "    \n",
    "    num_examples = X.shape[0]\n",
    "    y_predict = np.zeros((num_examples, 1))\n",
    "    for j in range(num_examples):\n",
    "        words = X[j].lower().split()\n",
    "        sent_vec = np.zeros(word_vec_dict[words[0]].shape)\n",
    "        for word in words:\n",
    "            sent_vec += word_vec_dict[word]\n",
    "        sent_vec /= len(words)\n",
    "            \n",
    "        z = np.matmul(w, sent_vec) + b\n",
    "            \n",
    "        expn = np.exp(z - np.max(z))\n",
    "        a = expn / expn.sum(axis=0)\n",
    "                    \n",
    "        y_predict[j] = np.argmax(a)\n",
    "                    \n",
    "    print('accuracy' + str(np.mean((y_predict[:] == y.reshape(y.shape[0],1)[:]))))\n",
    "    return y_predict, w, b"
   ]
  },
  {
   "cell_type": "code",
   "execution_count": 68,
   "metadata": {
    "collapsed": false
   },
   "outputs": [
    {
     "name": "stdout",
     "output_type": "stream",
     "text": [
      "Cost after iteration 0: 2.229326\n",
      "accuracy0.333333333333\n",
      "Cost after iteration 100: 0.140127\n",
      "accuracy0.937984496124\n",
      "Cost after iteration 200: 0.062608\n",
      "accuracy0.953488372093\n",
      "Cost after iteration 300: 0.041340\n",
      "accuracy0.968992248062\n"
     ]
    }
   ],
   "source": [
    "pred, w, b = model(X_train, y_train, word_vec_dict, num_iterations=400, learning_rate=0.01)\n"
   ]
  },
  {
   "cell_type": "code",
   "execution_count": 71,
   "metadata": {
    "collapsed": false
   },
   "outputs": [
    {
     "name": "stdout",
     "output_type": "stream",
     "text": [
      "accuracy0.976744186047\n",
      "accuracy0.607843137255\n"
     ]
    }
   ],
   "source": [
    "y_predict = predict(X_train, y_train, w, b, word_vec_dict)\n",
    "\n",
    "y_predict = predict(X_test, y_test, w, b, word_vec_dict)\n"
   ]
  },
  {
   "cell_type": "code",
   "execution_count": 75,
   "metadata": {
    "collapsed": false
   },
   "outputs": [
    {
     "name": "stdout",
     "output_type": "stream",
     "text": [
      "accuracy1.0\n",
      "i adore you ❤️\n",
      "i love you ❤️\n",
      "funny lol 😄\n",
      "lets play with a ball ⚾\n",
      "food is ready 🍴\n",
      "not feeling happy 😞\n"
     ]
    }
   ],
   "source": [
    "X_my_sentences = np.array([\"i adore you\", \"i love you\", \"funny lol\", \"lets play with a ball\", \"food is ready\", \"not feeling happy\"])\n",
    "Y_my_labels = np.array([[0], [0], [2], [1], [4],[3]])\n",
    "\n",
    "pred = predict(X_my_sentences, Y_my_labels , w, b, word_vec_dict)\n",
    "\n",
    "for i in range(X_my_sentences.shape[0]):\n",
    "        print(X_my_sentences[i], emoji.emojize(emoji_dict[str(int(pred[i]))], use_aliases=True))\n"
   ]
  },
  {
   "cell_type": "code",
   "execution_count": null,
   "metadata": {
    "collapsed": true
   },
   "outputs": [],
   "source": []
  }
 ],
 "metadata": {
  "kernelspec": {
   "display_name": "Python 3",
   "language": "python",
   "name": "python3"
  },
  "language_info": {
   "codemirror_mode": {
    "name": "ipython",
    "version": 3
   },
   "file_extension": ".py",
   "mimetype": "text/x-python",
   "name": "python",
   "nbconvert_exporter": "python",
   "pygments_lexer": "ipython3",
   "version": "3.6.0"
  }
 },
 "nbformat": 4,
 "nbformat_minor": 2
}
